{
 "cells": [
  {
   "cell_type": "code",
   "execution_count": null,
   "id": "7a82d61f-e213-4227-8914-08466c108d4b",
   "metadata": {},
   "outputs": [],
   "source": [
    "import numpy as np\n",
    "import matplotlib.pyplot as plt\n",
    "# Load the temperature data\n",
    "data = np.loadtxt('replica_temp.xvg', comments=['@', '#'])\n",
    "# Assuming the first column is the time and the second column is the temperature\n",
    "time = data[:, 0]  # Time in ps\n",
    "temperature = data[:, 1:]  # Temperature for each replica\n",
    "# Plot temperature for each replica\n",
    "plt.figure(figsize=(10, 6))\n",
    "for i in range(temperature.shape[1]):\n",
    "    plt.plot(time[::100], temperature[::100, i], label=f'Replica {i+1}')  # Plot every 100th frame\n",
    "plt.title('Temperature Fluctuations of Each Replica')\n",
    "plt.xlabel('Time (ps)')\n",
    "plt.ylabel('Temperature (K)')\n",
    "plt.legend()\n",
    "plt.grid()\n",
    "plt.show()"
   ]
  }
 ],
 "metadata": {
  "kernelspec": {
   "display_name": "Python 3 (ipykernel)",
   "language": "python",
   "name": "python3"
  },
  "language_info": {
   "codemirror_mode": {
    "name": "ipython",
    "version": 3
   },
   "file_extension": ".py",
   "mimetype": "text/x-python",
   "name": "python",
   "nbconvert_exporter": "python",
   "pygments_lexer": "ipython3",
   "version": "3.11.7"
  }
 },
 "nbformat": 4,
 "nbformat_minor": 5
}
