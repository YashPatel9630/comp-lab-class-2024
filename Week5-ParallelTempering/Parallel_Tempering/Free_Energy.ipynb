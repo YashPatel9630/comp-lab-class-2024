{
 "cells": [
  {
   "cell_type": "code",
   "execution_count": 4,
   "id": "58f9d180-c51b-431d-85e3-95b60399295e",
   "metadata": {},
   "outputs": [
    {
     "ename": "ValueError",
     "evalue": "too many values to unpack (expected 2)",
     "output_type": "error",
     "traceback": [
      "\u001b[0;31m---------------------------------------------------------------------------\u001b[0m",
      "\u001b[0;31mAttributeError\u001b[0m                            Traceback (most recent call last)",
      "File \u001b[0;32m/share/apps/anaconda3/2024.02/lib/python3.11/site-packages/numpy/lib/histograms.py:969\u001b[0m, in \u001b[0;36mhistogramdd\u001b[0;34m(sample, bins, range, density, weights)\u001b[0m\n\u001b[1;32m    967\u001b[0m \u001b[38;5;28;01mtry\u001b[39;00m:\n\u001b[1;32m    968\u001b[0m     \u001b[38;5;66;03m# Sample is an ND-array.\u001b[39;00m\n\u001b[0;32m--> 969\u001b[0m     N, D \u001b[38;5;241m=\u001b[39m sample\u001b[38;5;241m.\u001b[39mshape\n\u001b[1;32m    970\u001b[0m \u001b[38;5;28;01mexcept\u001b[39;00m (\u001b[38;5;167;01mAttributeError\u001b[39;00m, \u001b[38;5;167;01mValueError\u001b[39;00m):\n\u001b[1;32m    971\u001b[0m     \u001b[38;5;66;03m# Sample is a sequence of 1D arrays.\u001b[39;00m\n",
      "\u001b[0;31mAttributeError\u001b[0m: 'list' object has no attribute 'shape'",
      "\nDuring handling of the above exception, another exception occurred:\n",
      "\u001b[0;31mValueError\u001b[0m                                Traceback (most recent call last)",
      "Cell \u001b[0;32mIn[4], line 26\u001b[0m\n\u001b[1;32m     23\u001b[0m max_free_energy \u001b[38;5;241m=\u001b[39m \u001b[38;5;241m6\u001b[39m  \u001b[38;5;66;03m# Maximum free energy in kT\u001b[39;00m\n\u001b[1;32m     25\u001b[0m \u001b[38;5;66;03m# Create a 2D histogram of the dihedral angles\u001b[39;00m\n\u001b[0;32m---> 26\u001b[0m hist, xedges, yedges \u001b[38;5;241m=\u001b[39m np\u001b[38;5;241m.\u001b[39mhistogram2d(phi_angles, psi_angles, bins\u001b[38;5;241m=\u001b[39m\u001b[38;5;241m100\u001b[39m, density\u001b[38;5;241m=\u001b[39m\u001b[38;5;28;01mTrue\u001b[39;00m)\n\u001b[1;32m     28\u001b[0m \u001b[38;5;66;03m# Calculate the free energy\u001b[39;00m\n\u001b[1;32m     29\u001b[0m free_energy \u001b[38;5;241m=\u001b[39m \u001b[38;5;241m-\u001b[39mkB \u001b[38;5;241m*\u001b[39m T \u001b[38;5;241m*\u001b[39m np\u001b[38;5;241m.\u001b[39mlog(hist \u001b[38;5;241m+\u001b[39m \u001b[38;5;241m1e-10\u001b[39m)  \u001b[38;5;66;03m# Add small constant to avoid log(0)\u001b[39;00m\n",
      "File \u001b[0;32m/share/apps/anaconda3/2024.02/lib/python3.11/site-packages/numpy/lib/twodim_base.py:808\u001b[0m, in \u001b[0;36mhistogram2d\u001b[0;34m(x, y, bins, range, density, weights)\u001b[0m\n\u001b[1;32m    806\u001b[0m     xedges \u001b[38;5;241m=\u001b[39m yedges \u001b[38;5;241m=\u001b[39m asarray(bins)\n\u001b[1;32m    807\u001b[0m     bins \u001b[38;5;241m=\u001b[39m [xedges, yedges]\n\u001b[0;32m--> 808\u001b[0m hist, edges \u001b[38;5;241m=\u001b[39m histogramdd([x, y], bins, \u001b[38;5;28mrange\u001b[39m, density, weights)\n\u001b[1;32m    809\u001b[0m \u001b[38;5;28;01mreturn\u001b[39;00m hist, edges[\u001b[38;5;241m0\u001b[39m], edges[\u001b[38;5;241m1\u001b[39m]\n",
      "File \u001b[0;32m/share/apps/anaconda3/2024.02/lib/python3.11/site-packages/numpy/lib/histograms.py:973\u001b[0m, in \u001b[0;36mhistogramdd\u001b[0;34m(sample, bins, range, density, weights)\u001b[0m\n\u001b[1;32m    970\u001b[0m \u001b[38;5;28;01mexcept\u001b[39;00m (\u001b[38;5;167;01mAttributeError\u001b[39;00m, \u001b[38;5;167;01mValueError\u001b[39;00m):\n\u001b[1;32m    971\u001b[0m     \u001b[38;5;66;03m# Sample is a sequence of 1D arrays.\u001b[39;00m\n\u001b[1;32m    972\u001b[0m     sample \u001b[38;5;241m=\u001b[39m np\u001b[38;5;241m.\u001b[39matleast_2d(sample)\u001b[38;5;241m.\u001b[39mT\n\u001b[0;32m--> 973\u001b[0m     N, D \u001b[38;5;241m=\u001b[39m sample\u001b[38;5;241m.\u001b[39mshape\n\u001b[1;32m    975\u001b[0m nbin \u001b[38;5;241m=\u001b[39m np\u001b[38;5;241m.\u001b[39mempty(D, np\u001b[38;5;241m.\u001b[39mintp)\n\u001b[1;32m    976\u001b[0m edges \u001b[38;5;241m=\u001b[39m D\u001b[38;5;241m*\u001b[39m[\u001b[38;5;28;01mNone\u001b[39;00m]\n",
      "\u001b[0;31mValueError\u001b[0m: too many values to unpack (expected 2)"
     ]
    }
   ],
   "source": [
    "import mdtraj as md\n",
    "import numpy as np\n",
    "import matplotlib.pyplot as plt\n",
    "\n",
    "# Load the trajectory and topology\n",
    "trajectory = md.load('/home/yhp2008/comp-lab-class-2024/Week5-ParallelTempering/Parallel_Tempering/T300/adp_exchange3temps.trr', top='/home/yhp2008/comp-lab-class-2024/Week5-ParallelTempering/Parallel_Tempering/T300/adp_exchange3temps.gro')\n",
    "\n",
    "# Calculate the phi and psi dihedral angles\n",
    "phi_indices = md.compute_phi(trajectory)  # returns indices and angles\n",
    "psi_indices = md.compute_psi(trajectory)  # returns indices and angles\n",
    "\n",
    "# Convert the angles to degrees and ensure they are NumPy arrays\n",
    "phi_angles = np.degrees(phi_indices[1])  # angles in degrees\n",
    "psi_angles = np.degrees(psi_indices[1])  # angles in degrees\n",
    "\n",
    "# Convert to NumPy arrays (if they are not already)\n",
    "phi_angles = np.array(phi_angles)\n",
    "psi_angles = np.array(psi_angles)\n",
    "\n",
    "# Parameters for FES calculation\n",
    "kB = 8.3145e-3  # kJ/(K mol), Boltzmann constant\n",
    "T = 300  # Temperature in K\n",
    "max_free_energy = 6  # Maximum free energy in kT\n",
    "\n",
    "# Create a 2D histogram of the dihedral angles\n",
    "hist, xedges, yedges = np.histogram2d(phi_angles, psi_angles, bins=100, density=True)\n",
    "\n",
    "# Calculate the free energy\n",
    "free_energy = -kB * T * np.log(hist + 1e-10)  # Add small constant to avoid log(0)\n",
    "\n",
    "# Set values beyond max_free_energy to max_free_energy\n",
    "free_energy[free_energy > max_free_energy] = max_free_energy\n",
    "\n",
    "# Create a meshgrid for plotting\n",
    "X, Y = np.meshgrid(xedges[:-1], yedges[:-1])\n",
    "print(\"Shape of phi_angles:\", phi_angles.shape)\n",
    "print(\"Shape of psi_angles:\", psi_angles.shape)\n",
    "\n",
    "# Plot the free energy surface\n",
    "plt.contourf(X, Y, free_energy.T, levels=50, cmap='viridis')\n",
    "plt.colorbar(label='Free Energy (kJ/mol)')\n",
    "plt.xlabel('Phi (degrees)')\n",
    "plt.ylabel('Psi (degrees)')\n",
    "plt.title('Free Energy Surface at T=300K')\n",
    "plt.show()"
   ]
  },
  {
   "cell_type": "code",
   "execution_count": null,
   "id": "b4f8fdbd-bfb3-4d8d-957f-c2a1eaf636a3",
   "metadata": {},
   "outputs": [],
   "source": []
  }
 ],
 "metadata": {
  "kernelspec": {
   "display_name": "Python 3 (ipykernel)",
   "language": "python",
   "name": "python3"
  },
  "language_info": {
   "codemirror_mode": {
    "name": "ipython",
    "version": 3
   },
   "file_extension": ".py",
   "mimetype": "text/x-python",
   "name": "python",
   "nbconvert_exporter": "python",
   "pygments_lexer": "ipython3",
   "version": "3.11.7"
  }
 },
 "nbformat": 4,
 "nbformat_minor": 5
}
