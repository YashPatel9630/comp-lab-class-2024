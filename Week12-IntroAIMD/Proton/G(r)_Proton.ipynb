{
 "cells": [
  {
   "cell_type": "code",
   "execution_count": 3,
   "id": "1c4cb361-a82f-4f79-9a4d-342945038ed6",
   "metadata": {},
   "outputs": [
    {
     "ename": "AttributeError",
     "evalue": "module 'mdtraj.core.element' has no attribute 'undefined'",
     "output_type": "error",
     "traceback": [
      "\u001b[0;31m---------------------------------------------------------------------------\u001b[0m",
      "\u001b[0;31mAttributeError\u001b[0m                            Traceback (most recent call last)",
      "Cell \u001b[0;32mIn[3], line 20\u001b[0m\n\u001b[1;32m     18\u001b[0m \u001b[38;5;28;01mfor\u001b[39;00m _ \u001b[38;5;129;01min\u001b[39;00m \u001b[38;5;28mrange\u001b[39m(n_extra_atoms):\n\u001b[1;32m     19\u001b[0m     residue \u001b[38;5;241m=\u001b[39m topology\u001b[38;5;241m.\u001b[39madd_residue(\u001b[38;5;124m'\u001b[39m\u001b[38;5;124mEXTRA\u001b[39m\u001b[38;5;124m'\u001b[39m, topology\u001b[38;5;241m.\u001b[39madd_chain())\n\u001b[0;32m---> 20\u001b[0m     topology\u001b[38;5;241m.\u001b[39madd_atom(\u001b[38;5;124m'\u001b[39m\u001b[38;5;124mX\u001b[39m\u001b[38;5;124m'\u001b[39m, element\u001b[38;5;241m=\u001b[39mmd\u001b[38;5;241m.\u001b[39melement\u001b[38;5;241m.\u001b[39mundefined, residue\u001b[38;5;241m=\u001b[39mresidue)\n\u001b[1;32m     22\u001b[0m \u001b[38;5;66;03m# Load the trajectory with the generated topology\u001b[39;00m\n\u001b[1;32m     23\u001b[0m traj \u001b[38;5;241m=\u001b[39m md\u001b[38;5;241m.\u001b[39mload_xyz(\u001b[38;5;124m\"\u001b[39m\u001b[38;5;124m/home/yhp2008/comp-lab-class-2024/Week12-IntroAIMD/Proton/proton_aimd_1ns_every0.5fs-pos-1.xyz\u001b[39m\u001b[38;5;124m\"\u001b[39m, top\u001b[38;5;241m=\u001b[39mtopology)\n",
      "\u001b[0;31mAttributeError\u001b[0m: module 'mdtraj.core.element' has no attribute 'undefined'"
     ]
    }
   ],
   "source": [
    "import mdtraj as md\n",
    "import numpy as np\n",
    "import matplotlib.pyplot as plt\n",
    "\n",
    "# Define the number of water molecules and extra atoms\n",
    "n_molecules = 64  # Number of water molecules (adjust based on inspection)\n",
    "n_extra_atoms = 1  # Number of extra atoms (e.g., proton or ion)\n",
    "\n",
    "# Create a topology for water molecules and the extra atom\n",
    "topology = md.Topology()\n",
    "for _ in range(n_molecules):\n",
    "    residue = topology.add_residue('WAT', topology.add_chain())\n",
    "    topology.add_atom('O', element=md.element.oxygen, residue=residue)\n",
    "    topology.add_atom('H', element=md.element.hydrogen, residue=residue)\n",
    "    topology.add_atom('H', element=md.element.hydrogen, residue=residue)\n",
    "\n",
    "# Add extra atom(s) to the topology\n",
    "for _ in range(n_extra_atoms):\n",
    "    residue = topology.add_residue('EXTRA', topology.add_chain())\n",
    "    topology.add_atom('X', element=md.element.undefined, residue=residue)\n",
    "\n",
    "# Load the trajectory with the generated topology\n",
    "traj = md.load_xyz(\"/home/yhp2008/comp-lab-class-2024/Week12-IntroAIMD/Proton/proton_aimd_1ns_every0.5fs-pos-1.xyz\", top=topology)\n",
    "\n",
    "# Define the box dimensions (replace with actual values)\n",
    "box_size = np.array([10.0, 10.0, 10.0])  # Box size in nm\n",
    "traj.unitcell_lengths = np.array([box_size])\n",
    "\n",
    "# Select oxygen atoms\n",
    "oxygen_indices = [atom.index for atom in traj.topology.atoms if atom.name == 'O']\n",
    "\n",
    "# Compute radial distribution function (g(r))\n",
    "rdf, r_values = md.compute_rdf(traj, pairs=oxygen_indices, r_range=(0.0, box_size[0] / 2), bin_width=0.01)\n",
    "\n",
    "# Plot g(r)\n",
    "plt.plot(r_values, rdf)\n",
    "plt.xlabel(\"r (nm)\")\n",
    "plt.ylabel(\"g(r)\")\n",
    "plt.title(\"Radial Distribution Function for Oxygens\")\n",
    "plt.grid()\n",
    "plt.show()\n",
    "\n"
   ]
  },
  {
   "cell_type": "code",
   "execution_count": null,
   "id": "3e4ca1e0-cce6-4d08-b66c-630ae5a18d65",
   "metadata": {},
   "outputs": [],
   "source": []
  }
 ],
 "metadata": {
  "kernelspec": {
   "display_name": "Python 3 (ipykernel)",
   "language": "python",
   "name": "python3"
  },
  "language_info": {
   "codemirror_mode": {
    "name": "ipython",
    "version": 3
   },
   "file_extension": ".py",
   "mimetype": "text/x-python",
   "name": "python",
   "nbconvert_exporter": "python",
   "pygments_lexer": "ipython3",
   "version": "3.11.7"
  }
 },
 "nbformat": 4,
 "nbformat_minor": 5
}
