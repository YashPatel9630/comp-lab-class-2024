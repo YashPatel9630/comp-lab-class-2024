{
 "cells": [
  {
   "cell_type": "code",
   "execution_count": 2,
   "id": "6b57082d-a4d3-4133-880a-9ee427db12c8",
   "metadata": {},
   "outputs": [
    {
     "ename": "IndexError",
     "evalue": "index 2 is out of bounds for axis 1 with size 2",
     "output_type": "error",
     "traceback": [
      "\u001b[0;31m---------------------------------------------------------------------------\u001b[0m",
      "\u001b[0;31mIndexError\u001b[0m                                Traceback (most recent call last)",
      "Cell \u001b[0;32mIn[2], line 9\u001b[0m\n\u001b[1;32m      7\u001b[0m colvar_data \u001b[38;5;241m=\u001b[39m np\u001b[38;5;241m.\u001b[39mloadtxt(\u001b[38;5;124m'\u001b[39m\u001b[38;5;124m/home/yhp2008/comp-lab-class-2024/Week6-Metadynamics/Inputs/DialaA/COLVAR\u001b[39m\u001b[38;5;124m'\u001b[39m, skiprows\u001b[38;5;241m=\u001b[39m\u001b[38;5;241m5\u001b[39m)  \u001b[38;5;66;03m# Update skiprows if header is different\u001b[39;00m\n\u001b[1;32m      8\u001b[0m phi_values \u001b[38;5;241m=\u001b[39m colvar_data[:, \u001b[38;5;241m1\u001b[39m]  \u001b[38;5;66;03m# Update column index for phi\u001b[39;00m\n\u001b[0;32m----> 9\u001b[0m psi_values \u001b[38;5;241m=\u001b[39m colvar_data[:, \u001b[38;5;241m2\u001b[39m]  \u001b[38;5;66;03m# Update column index for psi\u001b[39;00m\n\u001b[1;32m     11\u001b[0m \u001b[38;5;66;03m# Load the trajectory file and topology file using MDTraj\u001b[39;00m\n\u001b[1;32m     12\u001b[0m trajectory \u001b[38;5;241m=\u001b[39m md\u001b[38;5;241m.\u001b[39mload(\u001b[38;5;124m'\u001b[39m\u001b[38;5;124m/home/yhp2008/comp-lab-class-2024/Week6-Metadynamics/Inputs/DialaA/traj_comp.xtc\u001b[39m\u001b[38;5;124m'\u001b[39m, top\u001b[38;5;241m=\u001b[39m\u001b[38;5;124m'\u001b[39m\u001b[38;5;124m/home/yhp2008/comp-lab-class-2024/Week6-Metadynamics/Inputs/DialaA/confout.gro\u001b[39m\u001b[38;5;124m'\u001b[39m)\n",
      "\u001b[0;31mIndexError\u001b[0m: index 2 is out of bounds for axis 1 with size 2"
     ]
    }
   ],
   "source": [
    "# Import required libraries\n",
    "import numpy as np\n",
    "import matplotlib.pyplot as plt\n",
    "import mdtraj as md\n",
    "\n",
    "# Load the COLVAR file and extract phi and psi columns\n",
    "colvar_data = np.loadtxt('/home/yhp2008/comp-lab-class-2024/Week6-Metadynamics/Inputs/DialaA/COLVAR', skiprows=5)  # Update skiprows if header is different\n",
    "phi_values = colvar_data[:, 1]  # Update column index for phi\n",
    "psi_values = colvar_data[:, 2]  # Update column index for psi\n",
    "\n",
    "# Load the trajectory file and topology file using MDTraj\n",
    "trajectory = md.load('/home/yhp2008/comp-lab-class-2024/Week6-Metadynamics/Inputs/DialaA/traj_comp.xtc', top='/home/yhp2008/comp-lab-class-2024/Week6-Metadynamics/Inputs/DialaA/confout.gro')\n",
    "\n",
    "# Compute phi and psi dihedrals with MDTraj\n",
    "phi_indices = md.compute_phi(trajectory)[1]\n",
    "psi_indices = md.compute_psi(trajectory)[1]\n",
    "\n",
    "phi_trajectory, _ = md.compute_phi(trajectory)\n",
    "psi_trajectory, _ = md.compute_psi(trajectory)\n",
    "\n",
    "# Flatten arrays for plotting\n",
    "phi_trajectory = phi_trajectory.flatten()\n",
    "psi_trajectory = psi_trajectory.flatten()\n",
    "\n",
    "# Plot a Ramachandran-like plot (phi vs psi) for COLVAR and trajectory dihedrals\n",
    "plt.figure(figsize=(10, 8))\n",
    "plt.scatter(phi_values, psi_values, color='blue', alpha=0.5, label='COLVAR Dihedrals')\n",
    "plt.scatter(phi_trajectory, psi_trajectory, color='red', alpha=0.3, label='Trajectory Dihedrals')\n",
    "plt.xlabel(r'$\\phi$ (radians)')\n",
    "plt.ylabel(r'$\\psi$ (radians)')\n",
    "plt.legend()\n",
    "plt.title(\"Ramachandran Plot: Phi vs Psi\")\n",
    "plt.grid()\n",
    "plt.show()\n",
    "\n",
    "# Calculate standard deviations of phi and psi from the COLVAR file\n",
    "std_phi = np.std(phi_values)\n",
    "std_psi = np.std(psi_values)\n",
    "\n",
    "# Print out the standard deviations for SIGMA estimation\n",
    "print(f\"Standard deviation of Phi: {std_phi}\")\n",
    "print(f\"Standard deviation of Psi: {std_psi}\")\n"
   ]
  },
  {
   "cell_type": "code",
   "execution_count": null,
   "id": "813fb831-fd42-4304-b994-bc07487d1aa4",
   "metadata": {},
   "outputs": [],
   "source": []
  }
 ],
 "metadata": {
  "kernelspec": {
   "display_name": "Python 3 (ipykernel)",
   "language": "python",
   "name": "python3"
  },
  "language_info": {
   "codemirror_mode": {
    "name": "ipython",
    "version": 3
   },
   "file_extension": ".py",
   "mimetype": "text/x-python",
   "name": "python",
   "nbconvert_exporter": "python",
   "pygments_lexer": "ipython3",
   "version": "3.11.7"
  }
 },
 "nbformat": 4,
 "nbformat_minor": 5
}
